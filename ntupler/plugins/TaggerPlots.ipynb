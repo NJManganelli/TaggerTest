{
 "cells": [
  {
   "cell_type": "code",
   "execution_count": 1,
   "metadata": {
    "collapsed": false
   },
   "outputs": [
    {
     "name": "stdout",
     "output_type": "stream",
     "text": [
      "Welcome to JupyROOT 6.10/05\n"
     ]
    }
   ],
   "source": [
    "import ROOT"
   ]
  },
  {
   "cell_type": "code",
   "execution_count": 2,
   "metadata": {
    "collapsed": true
   },
   "outputs": [],
   "source": [
    "c = ROOT.TCanvas(\"c\")\n",
    "#h = ROOT.TH1F(\"h\",\"ROOT Histo;X;Y\",64,-4,4)\n",
    "#h.FillRandom(\"gaus\", 10000)"
   ]
  },
  {
   "cell_type": "code",
   "execution_count": null,
   "metadata": {
    "collapsed": false
   },
   "outputs": [],
   "source": [
    "#h.Draw()\n",
    "c.Update()\n",
    "c.Draw()"
   ]
  },
  {
   "cell_type": "code",
   "execution_count": 3,
   "metadata": {
    "collapsed": false
   },
   "outputs": [],
   "source": [
    "tt50 = ROOT.TFile(\"~/LTW4/TopTagger/TopTagger/test/TT50HT_res.root\", \"r\")\n",
    "tt250 = ROOT.TFile(\"~/LTW4/TopTagger/TopTagger/test/TT250HT_res.root\", \"r\")\n",
    "tt500 = ROOT.TFile(\"~/LTW4/TopTagger/TopTagger/test/TT500HT_res.root\", \"r\")\n",
    "tttt500 = ROOT.TFile(\"~/LTW4/TopTagger/TopTagger/test/TTTT500HT_res.root\", \"r\")"
   ]
  },
  {
   "cell_type": "code",
   "execution_count": null,
   "metadata": {
    "collapsed": false
   },
   "outputs": [],
   "source": [
    "tttt500.ls()"
   ]
  },
  {
   "cell_type": "code",
   "execution_count": 4,
   "metadata": {
    "collapsed": false
   },
   "outputs": [],
   "source": [
    "goodies = tt50.h_typeIII_hot_\n",
    "mordies = tt250.h_typeIII_hot_\n",
    "rickies = tt500.h_typeIII_hot_"
   ]
  },
  {
   "cell_type": "code",
   "execution_count": 11,
   "metadata": {
    "collapsed": false
   },
   "outputs": [
    {
     "data": {
      "image/png": "[encoded data removed]",
      "text/plain": [
       "<IPython.core.display.Image object>"
      ]
     },
     "metadata": {},
     "output_type": "display_data"
    }
   ],
   "source": [
    "goodies.Draw()\n",
    "#mordies.Draw()\n",
    "#rickies.Draw()\n",
    "mordies.Draw(\"Same\")\n",
    "#rickies.Draw(\"Same\")\n",
    "c.Update()\n",
    "c.Draw()"
   ]
  },
  {
   "cell_type": "code",
   "execution_count": null,
   "metadata": {
    "collapsed": false
   },
   "outputs": [],
   "source": [
    "hs = ROOT.THStack(\"hs\",\"\")\n",
    "h1 = ROOT.TH1F(\"h1\",\"test hstack\",10,-4,4)\n",
    "h1.FillRandom(\"gaus\",20000)\n",
    "#h1.SetFillColor(kRed)\n",
    "h1.SetFillColor(32)\n",
    "hs.Add(h1)\n",
    "h2 = ROOT.TH1F(\"h2\",\"test hstack\",10,-4,4)\n",
    "h2.FillRandom(\"gaus\",15000)\n",
    "h2.SetFillColor(75)\n",
    "hs.Add(h2)\n",
    "h3 = ROOT.TH1F(\"h3\",\"test hstack\",10,-4,4)\n",
    "h3.FillRandom(\"gaus\",10000)\n",
    "h3.SetFillColor(99)\n",
    "hs.Add(h3)\n",
    "cs = ROOT.TCanvas(\"cs\",\"cs\",10,10,700,900)\n",
    "#T = ROOT.TText\n",
    "#T.SetTextFont(42)\n",
    "#T.SetTextAlign(21)\n",
    "cs.Divide(2,2)\n",
    "cs.cd(1)\n",
    "hs.Draw()\n",
    "#T.DrawTextNDC(.5,.95,\"Default drawing option\")\n",
    "cs.cd(2)\n",
    "hs.Draw(\"nostack\")\n",
    "#T.DrawTextNDC(.5,.95,\"Option \\\"nostack\\\"\")\n",
    "cs.cd(3)\n",
    "hs.Draw(\"nostackb\")\n",
    "#T.DrawTextNDC(.5,.95,\"Option \\\"nostackb\\\"\")\n",
    "cs.cd(4)\n",
    "hs.Draw(\"lego1\")\n",
    "#T.DrawTextNDC(.5,.95,\"Option \\\"lego1\\\"\");\n",
    "#return cs;\n"
   ]
  },
  {
   "cell_type": "code",
   "execution_count": null,
   "metadata": {
    "collapsed": true
   },
   "outputs": [],
   "source": []
  }
 ],
 "metadata": {
  "kernelspec": {
   "display_name": "Python 2",
   "language": "python",
   "name": "python2"
  },
  "language_info": {
   "codemirror_mode": {
    "name": "ipython",
    "version": 2
   },
   "file_extension": ".py",
   "mimetype": "text/x-python",
   "name": "python",
   "nbconvert_exporter": "python",
   "pygments_lexer": "ipython2",
   "version": "2.7.11"
  }
 },
 "nbformat": 4,
 "nbformat_minor": 2
}
