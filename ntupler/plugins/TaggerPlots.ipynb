{
 "cells": [
  {
   "cell_type": "code",
   "execution_count": 1,
   "metadata": {
    "collapsed": false
   },
   "outputs": [
    {
     "name": "stdout",
     "output_type": "stream",
     "text": [
      "Welcome to JupyROOT 6.10/05\n"
     ]
    }
   ],
   "source": [
    "import ROOT"
   ]
  },
  {
   "cell_type": "code",
   "execution_count": 2,
   "metadata": {
    "collapsed": true
   },
   "outputs": [],
   "source": [
    "c = ROOT.TCanvas(\"c\")\n",
    "h = ROOT.TH1F(\"h\",\"ROOT Histo;X;Y\",64,-4,4)\n",
    "h.FillRandom(\"gaus\", 10000)"
   ]
  },
  {
   "cell_type": "code",
   "execution_count": 8,
   "metadata": {
    "collapsed": false
   },
   "outputs": [
    {
     "data": {
      "image/png": "[encoded data removed]",
      "text/plain": [
       "<IPython.core.display.Image object>"
      ]
     },
     "metadata": {},
     "output_type": "display_data"
    }
   ],
   "source": [
    "h.Draw()\n",
    "c.Update()\n",
    "c.Draw()"
   ]
  },
  {
   "cell_type": "code",
   "execution_count": 19,
   "metadata": {
    "collapsed": false
   },
   "outputs": [
    {
     "name": "stderr",
     "output_type": "stream",
     "text": [
      "Error in <TFile::TFile>: file /afs/cern.ch/user/n/nmangane/LTW4/TopTagger/TopTagger/test/TTTT500HT_res.root does not exist\n"
     ]
    }
   ],
   "source": [
    "tt50 = ROOT.TFile(\"~/LTW4/TopTagger/TopTagger/test/TT50HT_res.root\", \"r\")\n",
    "tt250 = ROOT.TFile(\"~/LTW4/TopTagger/TopTagger/test/TT250HT_res.root\", \"r\")\n",
    "tt500 = ROOT.TFile(\"~/LTW4/TopTagger/TopTagger/test/TT500HT_res.root\", \"r\")\n",
    "tttt500 = ROOT.TFile(\"~/LTW4/TopTagger/TopTagger/test/TTTT500HT_res.root\", \"r\")"
   ]
  },
  {
   "cell_type": "code",
   "execution_count": 20,
   "metadata": {
    "collapsed": false
   },
   "outputs": [
    {
     "name": "stdout",
     "output_type": "stream",
     "text": [
      "TFile**\t\t/afs/cern.ch/user/n/nmangane/LTW4/TopTagger/TopTagger/test/TT50HT_res.root\t\n",
      " TFile*\t\t/afs/cern.ch/user/n/nmangane/LTW4/TopTagger/TopTagger/test/TT50HT_res.root\t\n",
      "  KEY: TH1I\th_nTrueRecoTops_full;1\tNumber of true hadronic tops that are fully in event selection and acceptance\n",
      "  KEY: TH1I\th_nTrueRecoTops;1\tNumber of true hadronic tops in events surviving event selection\n",
      "  KEY: TH1I\th_nCandTops_hot;1\tNumber of tagger candidate (HOT) tops in events surviving event selection\n",
      "  KEY: TH1I\th_nCandTops_bdt;1\tNumber of tagger candidate (BDT) tops in events surviving event selection\n",
      "  KEY: TH1I\th_nCandTops_hot1;1\tNumber of tagger candidate (HOT) tops in events with 1 real Reco top\n",
      "  KEY: TH1I\th_nCandTops_bdt1;1\tNumber of tagger candidate (BDT) tops in events with 1 real Reco top\n",
      "  KEY: TH1I\th_nCandTops_hot2;1\tNumber of tagger candidate (HOT) tops in events with 2 real Reco tops\n",
      "  KEY: TH1I\th_nCandTops_bdt2;1\tNumber of tagger candidate (BDT) tops in events with 2 real Reco tops\n",
      "  KEY: TH1I\th_nCandTops_hot3;1\tNumber of tagger candidate (HOT) tops in events with 3 real Reco tops\n",
      "  KEY: TH1I\th_nCandTops_bdt3;1\tNumber of tagger candidate (BDT) tops in events with 3 real Reco tops\n",
      "  KEY: TH1I\th_nCandTops_hot4;1\tNumber of tagger candidate (HOT) tops in events with 4 real Reco tops\n",
      "  KEY: TH1I\th_nCandTops_bdt4;1\tNumber of tagger candidate (BDT) tops in events with 4 real Reco tops\n",
      "  KEY: TH1F\th_typeIII_hot_;1\tType III (correct) Top Quarks\n",
      "  KEY: TH1F\th_typeIIb_hot_;1\tType II (b swapped) Top Quarks\n",
      "  KEY: TH1F\th_typeIIw_hot_;1\tType II (q1 or q2 swapped) Top Quarks\n",
      "  KEY: TH1F\th_typeIImib_hot_;1\tType II (misidentified b from anywhere non-b) Top Quarks\n",
      "  KEY: TH1F\th_typeIImiq_hot_;1\tType II (misidentified q from anywhere non-q) Top Quarks\n",
      "  KEY: TH1F\th_typeI_hot_;1\tType I (2+ top-daughters matched, 1 per reco top)\n",
      "  KEY: TH1F\th_type0_hot_;1\tType 0 (all other tagger candidates)\n",
      "  KEY: TH1F\th_eventN1_tIII_hot;1\tHighest Disc Cand (Type III) \n",
      "  KEY: TH1F\th_eventN1_tII_hot;1\tHighest Disc Cand (Type II) \n",
      "  KEY: TH1F\th_eventN1_tI_hot;1\tHighest Disc Cand (Type I) \n",
      "  KEY: TH1F\th_eventN1_t0_hot;1\tHighest Disc Cand (Type 0) \n",
      "  KEY: TH1F\th_eventN2_tIII_hot;1\t2nd Highest Disc Cand (Type III) \n",
      "  KEY: TH1F\th_eventN2_tII_hot;1\t2nd Highest Disc Cand (Type II) \n",
      "  KEY: TH1F\th_eventN2_tI_hot;1\t2nd Highest Disc Cand (Type I) \n",
      "  KEY: TH1F\th_eventN2_t0_hot;1\t2nd Highest Disc Cand (Type 0) \n",
      "  KEY: TH1F\th_eventN3_tIII_hot;1\t3rd Highest Disc Cand (Type III) \n",
      "  KEY: TH1F\th_eventN3_tII_hot;1\t3rd Highest Disc Cand (Type II) \n",
      "  KEY: TH1F\th_eventN3_tI_hot;1\t3rd Highest Disc Cand (Type I) \n",
      "  KEY: TH1F\th_eventN3_t0_hot;1\t3rd Highest Disc Cand (Type 0) \n",
      "  KEY: TH1F\th_typeIII_bdt_;1\tType III (correct) Top Quarks\n",
      "  KEY: TH1F\th_typeIIb_bdt_;1\tType II (b swapped) Top Quarks\n",
      "  KEY: TH1F\th_typeIIw_bdt_;1\tType II (q1 or q2 swapped) Top Quarks\n",
      "  KEY: TH1F\th_typeIImib_bdt_;1\tType II (misidentified b from anywhere non-b) Top Quarks\n",
      "  KEY: TH1F\th_typeIImiq_bdt_;1\tType II (misidentified q from anywhere non-q) Top Quarks\n",
      "  KEY: TH1F\th_typeI_bdt_;1\tType I (2+ top-daughters matched, 1 per reco top)\n",
      "  KEY: TH1F\th_type0_bdt_;1\tType 0 (all other tagger candidates)\n",
      "  KEY: TH1F\th_eventN1_tIII_bdt;1\tHighest Disc Cand (Type III) \n",
      "  KEY: TH1F\th_eventN1_tII_bdt;1\tHighest Disc Cand (Type II) \n",
      "  KEY: TH1F\th_eventN1_tI_bdt;1\tHighest Disc Cand (Type I) \n",
      "  KEY: TH1F\th_eventN1_t0_bdt;1\tHighest Disc Cand (Type 0) \n",
      "  KEY: TH1F\th_eventN2_tIII_bdt;1\t2nd Highest Disc Cand (Type III) \n",
      "  KEY: TH1F\th_eventN2_tII_bdt;1\t2nd Highest Disc Cand (Type II) \n",
      "  KEY: TH1F\th_eventN2_tI_bdt;1\t2nd Highest Disc Cand (Type I) \n",
      "  KEY: TH1F\th_eventN2_t0_bdt;1\t2nd Highest Disc Cand (Type 0) \n",
      "  KEY: TH1F\th_eventN3_tIII_bdt;1\t3rd Highest Disc Cand (Type III) \n",
      "  KEY: TH1F\th_eventN3_tII_bdt;1\t3rd Highest Disc Cand (Type II) \n",
      "  KEY: TH1F\th_eventN3_tI_bdt;1\t3rd Highest Disc Cand (Type I) \n",
      "  KEY: TH1F\th_eventN3_t0_bdt;1\t3rd Highest Disc Cand (Type 0) \n",
      "  KEY: TH1I\th_recoTypes;1\tReconstructible Top Candidates\n"
     ]
    }
   ],
   "source": [
    "tt50.ls()"
   ]
  },
  {
   "cell_type": "code",
   "execution_count": 21,
   "metadata": {
    "collapsed": false
   },
   "outputs": [
    {
     "data": {
      "image/png": "[encoded data removed]",
      "text/plain": [
       "<IPython.core.display.Image object>"
      ]
     },
     "metadata": {},
     "output_type": "display_data"
    }
   ],
   "source": [
    "somechosenplot = tt50.h_recoTypes\n",
    "type(somechosenplot)\n",
    "somechosenplot.Draw()\n",
    "c.Update()\n",
    "c.Draw()"
   ]
  },
  {
   "cell_type": "code",
   "execution_count": null,
   "metadata": {
    "collapsed": true
   },
   "outputs": [],
   "source": []
  }
 ],
 "metadata": {
  "kernelspec": {
   "display_name": "Python 2",
   "language": "python",
   "name": "python2"
  },
  "language_info": {
   "codemirror_mode": {
    "name": "ipython",
    "version": 2
   },
   "file_extension": ".py",
   "mimetype": "text/x-python",
   "name": "python",
   "nbconvert_exporter": "python",
   "pygments_lexer": "ipython2",
   "version": "2.7.11"
  }
 },
 "nbformat": 4,
 "nbformat_minor": 2
}
